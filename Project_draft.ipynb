{
 "cells": [
  {
   "cell_type": "code",
   "execution_count": 1,
   "metadata": {},
   "outputs": [
    {
     "ename": "NameError",
     "evalue": "name 'plt' is not defined",
     "output_type": "error",
     "traceback": [
      "\u001b[0;31m---------------------------------------------------------------------------\u001b[0m",
      "\u001b[0;31mNameError\u001b[0m                                 Traceback (most recent call last)",
      "\u001b[0;32m<ipython-input-1-68b47e6b300e>\u001b[0m in \u001b[0;36m<module>\u001b[0;34m\u001b[0m\n\u001b[1;32m     25\u001b[0m     \u001b[0;32mreturn\u001b[0m \u001b[0mimg_channel_variance\u001b[0m\u001b[0;34m(\u001b[0m\u001b[0mimg\u001b[0m\u001b[0;34m,\u001b[0m \u001b[0;36m2\u001b[0m\u001b[0;34m,\u001b[0m \u001b[0mfor_column\u001b[0m\u001b[0;34m)\u001b[0m\u001b[0;34m\u001b[0m\u001b[0;34m\u001b[0m\u001b[0m\n\u001b[1;32m     26\u001b[0m \u001b[0;34m\u001b[0m\u001b[0m\n\u001b[0;32m---> 27\u001b[0;31m \u001b[0mfig\u001b[0m\u001b[0;34m,\u001b[0m \u001b[0maxes\u001b[0m \u001b[0;34m=\u001b[0m \u001b[0mplt\u001b[0m\u001b[0;34m.\u001b[0m\u001b[0msubplots\u001b[0m\u001b[0;34m(\u001b[0m\u001b[0;36m1\u001b[0m\u001b[0;34m,\u001b[0m \u001b[0;36m2\u001b[0m\u001b[0;34m,\u001b[0m \u001b[0mfigsize\u001b[0m\u001b[0;34m=\u001b[0m\u001b[0;34m(\u001b[0m\u001b[0;36m10\u001b[0m\u001b[0;34m,\u001b[0m \u001b[0;36m5\u001b[0m\u001b[0;34m)\u001b[0m\u001b[0;34m)\u001b[0m\u001b[0;34m\u001b[0m\u001b[0;34m\u001b[0m\u001b[0m\n\u001b[0m\u001b[1;32m     28\u001b[0m \u001b[0mplt\u001b[0m\u001b[0;34m.\u001b[0m\u001b[0msubplot\u001b[0m\u001b[0;34m(\u001b[0m\u001b[0;36m1\u001b[0m\u001b[0;34m,\u001b[0m \u001b[0;36m2\u001b[0m\u001b[0;34m,\u001b[0m \u001b[0;36m1\u001b[0m\u001b[0;34m)\u001b[0m\u001b[0;34m\u001b[0m\u001b[0;34m\u001b[0m\u001b[0m\n\u001b[1;32m     29\u001b[0m \u001b[0mplt\u001b[0m\u001b[0;34m.\u001b[0m\u001b[0mtitle\u001b[0m\u001b[0;34m(\u001b[0m\u001b[0;34m'Color channels vertical means'\u001b[0m\u001b[0;34m)\u001b[0m\u001b[0;34m\u001b[0m\u001b[0;34m\u001b[0m\u001b[0m\n",
      "\u001b[0;31mNameError\u001b[0m: name 'plt' is not defined"
     ]
    }
   ],
   "source": [
    "def img_channel_mean(img, channel_index, for_column):\n",
    "    channel = img[:, :, channel_index]\n",
    "    return np.mean(channel, axis= 0 if for_column else 1)\n",
    "\n",
    "def img_r_mean(img, for_column=True):\n",
    "    return img_channel_mean(img, 0, for_column)\n",
    "\n",
    "def img_g_mean(img, for_column=True):\n",
    "    return img_channel_mean(img, 1, for_column)\n",
    "\n",
    "def img_b_mean(img, for_column=True):\n",
    "    return img_channel_mean(img, 2, for_column)\n",
    "\n",
    "def img_channel_variance(img, channel_index, for_column):\n",
    "    channel = img[:, :, channel_index]\n",
    "    return np.var(channel, axis= 0 if for_column else 1)\n",
    "\n",
    "def img_r_variance(img, for_column=True):\n",
    "    return img_channel_variance(img, 0, for_column)\n",
    "\n",
    "def img_g_variance(img, for_column=True):\n",
    "    return img_channel_variance(img, 1, for_column)\n",
    "\n",
    "def img_b_variance(img, for_column=True):\n",
    "    return img_channel_variance(img, 2, for_column) \n",
    "\n",
    "fig, axes = plt.subplots(1, 2, figsize=(10, 5))\n",
    "plt.subplot(1, 2, 1)\n",
    "plt.title('Color channels vertical means')\n",
    "plt.plot(img_r_mean(img), 'r')\n",
    "plt.plot(img_g_mean(img), 'g')\n",
    "plt.plot(img_b_mean(img), 'b')\n",
    "plt.xlabel('x')\n",
    "plt.ylabel('Mean pixel value for column')\n",
    "plt.ylim([0, 255])\n",
    "\n",
    "plt.subplot(1, 2, 2)\n",
    "plt.title('Color channels horizontal means')\n",
    "plt.plot(img_r_mean(img, False), 'r')\n",
    "plt.plot(img_g_mean(img, False), 'g')\n",
    "plt.plot(img_b_mean(img, False), 'b')\n",
    "plt.xlabel('y')\n",
    "plt.ylabel('Mean pixel value for row')\n",
    "plt.ylim([0, 255]);"
   ]
  },
  {
   "cell_type": "code",
   "execution_count": null,
   "metadata": {},
   "outputs": [],
   "source": [
    "fig, axes = plt.subplots(1, 2, figsize=(10, 5))\n",
    "plt.subplot(1, 2, 1)\n",
    "plt.title('Color channels vertical variance')\n",
    "plt.plot(img_r_variance(img), 'r')\n",
    "plt.plot(img_g_variance(img), 'g')\n",
    "plt.plot(img_b_variance(img), 'b')\n",
    "plt.xlabel('x')\n",
    "plt.ylabel('Variance pixel value for column')\n",
    "\n",
    "plt.subplot(1, 2, 2)\n",
    "plt.title('Color channels horizontal variance')\n",
    "plt.plot(img_r_variance(img, False), 'r')\n",
    "plt.plot(img_g_variance(img, False), 'g')\n",
    "plt.plot(img_b_variance(img, False), 'b')\n",
    "plt.xlabel('y')\n",
    "plt.ylabel('Variance pixel value for row');"
   ]
  },
  {
   "cell_type": "code",
   "execution_count": null,
   "metadata": {},
   "outputs": [],
   "source": [
    "correlations = glcm_correlation(resized_img, range(1, 300))\n",
    "horizontal = correlations[:, 0]\n",
    "vertical = correlations[:, 1]\n",
    "\n",
    "fig, axes = plt.subplots(1, 2, figsize=(10, 5))\n",
    "plt.subplot(1, 2, 1)\n",
    "plt.plot(horizontal)\n",
    "plt.title('In horizontal direction')\n",
    "plt.xlabel('Reference distance, pixels')\n",
    "plt.ylabel('Correlation')\n",
    "plt.ylim([-1, 1])\n",
    "\n",
    "plt.subplot(1, 2, 2)\n",
    "plt.plot(vertical)\n",
    "plt.title('In vertical direction')\n",
    "plt.xlabel('Reference distance, pixels')\n",
    "plt.ylabel('Mean pixel value for row')\n",
    "plt.ylim([-1, 1]);"
   ]
  }
 ],
 "metadata": {
  "kernelspec": {
   "display_name": "Python 3",
   "language": "python",
   "name": "python3"
  },
  "language_info": {
   "codemirror_mode": {
    "name": "ipython",
    "version": 3
   },
   "file_extension": ".py",
   "mimetype": "text/x-python",
   "name": "python",
   "nbconvert_exporter": "python",
   "pygments_lexer": "ipython3",
   "version": "3.7.4"
  }
 },
 "nbformat": 4,
 "nbformat_minor": 2
}
